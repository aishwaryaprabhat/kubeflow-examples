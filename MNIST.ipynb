{
 "cells": [
  {
   "cell_type": "code",
   "execution_count": 1,
   "metadata": {
    "tags": [
     "imports"
    ]
   },
   "outputs": [],
   "source": [
    "import matplotlib.pyplot as plt\n",
    "from sklearn import datasets, svm, metrics\n",
    "from sklearn.model_selection import train_test_split\n",
    "from sklearn.metrics import confusion_matrix\n",
    "from sklearn.tree import DecisionTreeClassifier\n",
    "from sklearn.ensemble import RandomForestClassifier\n",
    "import seaborn as sns\n",
    "import numpy as np"
   ]
  },
  {
   "cell_type": "markdown",
   "metadata": {
    "tags": []
   },
   "source": [
    "Load Data"
   ]
  },
  {
   "cell_type": "code",
   "execution_count": 2,
   "metadata": {
    "tags": [
     "block:load_data"
    ]
   },
   "outputs": [
    {
     "name": "stdout",
     "output_type": "stream",
     "text": [
      "\n",
      "Loading data.....\n"
     ]
    }
   ],
   "source": [
    "print(\"\\nLoading data.....\")\n",
    "data = datasets.load_digits().images.reshape((len(datasets.load_digits().images), -1))\n",
    "X_train, X_test, y_train, y_test = train_test_split(\n",
    "    data, datasets.load_digits().target, test_size=0.5, shuffle=False\n",
    ")"
   ]
  },
  {
   "cell_type": "code",
   "execution_count": 4,
   "metadata": {
    "tags": [
     "pipeline-parameters"
    ]
   },
   "outputs": [],
   "source": [
    "MAX_DEPTH = 10"
   ]
  },
  {
   "cell_type": "markdown",
   "metadata": {
    "tags": []
   },
   "source": [
    "Train and Predict "
   ]
  },
  {
   "cell_type": "code",
   "execution_count": 7,
   "metadata": {
    "tags": [
     "block:decision_tree",
     "prev:load_data"
    ]
   },
   "outputs": [
    {
     "name": "stdout",
     "output_type": "stream",
     "text": [
      "\n",
      "Training and predicting using Decision Tree Classifier.....\n",
      "Classification report for classifier DecisionTreeClassifier(max_depth=10):\n",
      "              precision    recall  f1-score   support\n",
      "\n",
      "           0       0.92      0.90      0.91        88\n",
      "           1       0.70      0.62      0.65        91\n",
      "           2       0.85      0.74      0.80        86\n",
      "           3       0.68      0.74      0.71        91\n",
      "           4       0.79      0.82      0.80        92\n",
      "           5       0.60      0.75      0.66        91\n",
      "           6       0.89      0.88      0.88        91\n",
      "           7       0.91      0.78      0.84        89\n",
      "           8       0.60      0.57      0.58        88\n",
      "           9       0.67      0.74      0.70        92\n",
      "\n",
      "    accuracy                           0.75       899\n",
      "   macro avg       0.76      0.75      0.75       899\n",
      "weighted avg       0.76      0.75      0.75       899\n",
      "\n",
      "\n"
     ]
    }
   ],
   "source": [
    "print(\"\\nTraining and predicting using Decision Tree Classifier.....\")\n",
    "clf = DecisionTreeClassifier(max_depth=MAX_DEPTH)\n",
    "clf.fit(X_train, y_train)\n",
    "predicted = clf.predict(X_test)\n",
    "print(\n",
    "    f\"Classification report for classifier {clf}:\\n\"\n",
    "    f\"{metrics.classification_report(y_test, predicted)}\\n\"\n",
    ")\n",
    "\n",
    "dt_acc = metrics.accuracy_score(y_test, predicted)"
   ]
  },
  {
   "cell_type": "markdown",
   "metadata": {
    "tags": []
   },
   "source": [
    "Train and Predict #"
   ]
  },
  {
   "cell_type": "code",
   "execution_count": 8,
   "metadata": {
    "tags": [
     "block:random_forest",
     "prev:load_data"
    ]
   },
   "outputs": [
    {
     "name": "stdout",
     "output_type": "stream",
     "text": [
      "\n",
      "Training and predicting using Random Forest Classifier.....\n",
      "Classification report for classifier RandomForestClassifier(max_depth=10):\n",
      "              precision    recall  f1-score   support\n",
      "\n",
      "           0       0.98      0.99      0.98        88\n",
      "           1       0.95      0.88      0.91        91\n",
      "           2       0.99      0.90      0.94        86\n",
      "           3       0.91      0.85      0.87        91\n",
      "           4       0.97      0.95      0.96        92\n",
      "           5       0.88      0.96      0.92        91\n",
      "           6       0.99      1.00      0.99        91\n",
      "           7       0.93      0.97      0.95        89\n",
      "           8       0.92      0.89      0.90        88\n",
      "           9       0.84      0.96      0.89        92\n",
      "\n",
      "    accuracy                           0.93       899\n",
      "   macro avg       0.93      0.93      0.93       899\n",
      "weighted avg       0.93      0.93      0.93       899\n",
      "\n",
      "\n"
     ]
    }
   ],
   "source": [
    "print(\"\\nTraining and predicting using Random Forest Classifier.....\")\n",
    "clf = RandomForestClassifier(max_depth=MAX_DEPTH)\n",
    "clf.fit(X_train, y_train)\n",
    "predicted = clf.predict(X_test)\n",
    "print(\n",
    "    f\"Classification report for classifier {clf}:\\n\"\n",
    "    f\"{metrics.classification_report(y_test, predicted)}\\n\"\n",
    ")\n",
    "\n",
    "rf_acc = metrics.accuracy_score(y_test, predicted)"
   ]
  },
  {
   "cell_type": "code",
   "execution_count": 9,
   "metadata": {
    "tags": [
     "pipeline-metrics"
    ]
   },
   "outputs": [
    {
     "name": "stdout",
     "output_type": "stream",
     "text": [
      "0.7519466073414905\n",
      "0.932146829810901\n"
     ]
    }
   ],
   "source": [
    "print(dt_acc)\n",
    "print(rf_acc)"
   ]
  }
 ],
 "metadata": {
  "kernelspec": {
   "display_name": "Python 3",
   "language": "python",
   "name": "python3"
  },
  "kubeflow_notebook": {
   "autosnapshot": false,
   "docker_image": "aishpra/kf-base:v10",
   "experiment": {
    "id": "a819b42b-be9a-47fc-99cb-76d6f1e7e035",
    "name": "mnist"
   },
   "experiment_name": "mnist",
   "katib_metadata": {
    "algorithm": {
     "algorithmName": "grid"
    },
    "maxFailedTrialCount": 3,
    "maxTrialCount": 12,
    "objective": {
     "objectiveMetricName": "",
     "type": "minimize"
    },
    "parallelTrialCount": 3,
    "parameters": []
   },
   "katib_run": false,
   "pipeline_description": "My first pipeline",
   "pipeline_name": "mnist-pipeline",
   "snapshot_volumes": false,
   "steps_defaults": [
    "label:access-ml-pipeline:true"
   ],
   "volume_access_mode": "rwm",
   "volumes": []
  },
  "language_info": {
   "codemirror_mode": {
    "name": "ipython",
    "version": 3
   },
   "file_extension": ".py",
   "mimetype": "text/x-python",
   "name": "python",
   "nbconvert_exporter": "python",
   "pygments_lexer": "ipython3",
   "version": "3.6.8"
  }
 },
 "nbformat": 4,
 "nbformat_minor": 4
}
